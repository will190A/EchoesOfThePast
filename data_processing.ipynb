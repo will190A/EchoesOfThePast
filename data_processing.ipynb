{
 "cells": [
  {
   "cell_type": "code",
   "execution_count": 2,
   "metadata": {},
   "outputs": [
    {
     "name": "stdout",
     "output_type": "stream",
     "text": [
      "所有文件已转换并保存为 all_bitext_alpaca_format.json\n"
     ]
    }
   ],
   "source": [
    "import os\n",
    "import json\n",
    "\n",
    "# 文件夹路径\n",
    "folder_path = \"双语数据\"\n",
    "\n",
    "# 存储转换后的结果\n",
    "all_data = []\n",
    "\n",
    "# 遍历文件夹及其子文件夹，找到所有的 bitext.txt 文件\n",
    "for root, dirs, files in os.walk(folder_path):\n",
    "    for file in files:\n",
    "        if file == \"bitext.txt\":\n",
    "            # 构建文件的完整路径\n",
    "            file_path = os.path.join(root, file)\n",
    "\n",
    "            # 读取 bitext.txt 文件内容\n",
    "            with open(file_path, 'r', encoding='utf-8') as f:\n",
    "                lines = f.readlines()\n",
    "\n",
    "            # 过滤掉空行\n",
    "            lines = [line.strip() for line in lines if line.strip()]\n",
    "\n",
    "            # 每两个一组，处理古文和现代文\n",
    "            for i in range(0, len(lines) - 1, 2):  # 确保不超出范围\n",
    "                # 提取古文和现代文\n",
    "                ancient_text = lines[i].replace(\"古文：\", \"\")\n",
    "                modern_text = lines[i+1].replace(\"现代文：\", \"\")\n",
    "                \n",
    "                # 创建字典，按照Alpaca格式存储\n",
    "                entry = {\n",
    "                    \"instruction\": modern_text,\n",
    "                    \"output\": ancient_text\n",
    "                }\n",
    "                \n",
    "                # 添加到结果列表\n",
    "                all_data.append(entry)\n",
    "\n",
    "# 保存为JSON文件\n",
    "output_json_path = os.path.join(\"all_bitext_alpaca_format.json\")\n",
    "with open(output_json_path, 'w', encoding='utf-8') as json_file:\n",
    "    json.dump(all_data, json_file, ensure_ascii=False, indent=4)\n",
    "\n",
    "print(\"所有文件已转换并保存为 all_bitext_alpaca_format.json\")\n"
   ]
  }
 ],
 "metadata": {
  "kernelspec": {
   "display_name": "base",
   "language": "python",
   "name": "python3"
  },
  "language_info": {
   "codemirror_mode": {
    "name": "ipython",
    "version": 3
   },
   "file_extension": ".py",
   "mimetype": "text/x-python",
   "name": "python",
   "nbconvert_exporter": "python",
   "pygments_lexer": "ipython3",
   "version": "3.12.7"
  }
 },
 "nbformat": 4,
 "nbformat_minor": 2
}
